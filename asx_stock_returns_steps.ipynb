{
  "nbformat": 4,
  "nbformat_minor": 0,
  "metadata": {
    "colab": {
      "name": "asx_stock_returns_steps.ipynb",
      "provenance": [],
      "collapsed_sections": [],
      "include_colab_link": true
    },
    "kernelspec": {
      "name": "python3",
      "display_name": "Python 3"
    },
    "language_info": {
      "name": "python"
    }
  },
  "cells": [
    {
      "cell_type": "markdown",
      "metadata": {
        "id": "view-in-github",
        "colab_type": "text"
      },
      "source": [
        "<a href=\"https://colab.research.google.com/github/DanaPing/Portfolio/blob/main/asx_stock_returns_steps.ipynb\" target=\"_parent\"><img src=\"https://colab.research.google.com/assets/colab-badge.svg\" alt=\"Open In Colab\"/></a>"
      ]
    },
    {
      "cell_type": "markdown",
      "metadata": {
        "id": "HNZIlM6oj2Aj"
      },
      "source": [
        "In this notebook we will:\n",
        "\n",
        "* Download prices\n",
        "* Calculate Returns\n",
        "* Calculate mean and standard deviation of returns\n",
        "\n",
        "Lets load the modules first.\n"
      ]
    },
    {
      "cell_type": "code",
      "metadata": {
        "colab": {
          "base_uri": "https://localhost:8080/"
        },
        "id": "s0qAL_3T1jdL",
        "outputId": "4ef01cef-9b43-4f38-d493-ccfd8a8ff889"
      },
      "source": [
        "!pip install pandas-datareader\n"
      ],
      "execution_count": null,
      "outputs": [
        {
          "output_type": "stream",
          "name": "stdout",
          "text": [
            "Requirement already satisfied: pandas-datareader in /usr/local/lib/python3.7/dist-packages (0.9.0)\n",
            "Requirement already satisfied: lxml in /usr/local/lib/python3.7/dist-packages (from pandas-datareader) (4.6.3)\n",
            "Requirement already satisfied: pandas>=0.23 in /usr/local/lib/python3.7/dist-packages (from pandas-datareader) (1.1.5)\n",
            "Requirement already satisfied: requests>=2.19.0 in /usr/local/lib/python3.7/dist-packages (from pandas-datareader) (2.23.0)\n",
            "Requirement already satisfied: pytz>=2017.2 in /usr/local/lib/python3.7/dist-packages (from pandas>=0.23->pandas-datareader) (2018.9)\n",
            "Requirement already satisfied: python-dateutil>=2.7.3 in /usr/local/lib/python3.7/dist-packages (from pandas>=0.23->pandas-datareader) (2.8.2)\n",
            "Requirement already satisfied: numpy>=1.15.4 in /usr/local/lib/python3.7/dist-packages (from pandas>=0.23->pandas-datareader) (1.19.5)\n",
            "Requirement already satisfied: six>=1.5 in /usr/local/lib/python3.7/dist-packages (from python-dateutil>=2.7.3->pandas>=0.23->pandas-datareader) (1.15.0)\n",
            "Requirement already satisfied: idna<3,>=2.5 in /usr/local/lib/python3.7/dist-packages (from requests>=2.19.0->pandas-datareader) (2.10)\n",
            "Requirement already satisfied: certifi>=2017.4.17 in /usr/local/lib/python3.7/dist-packages (from requests>=2.19.0->pandas-datareader) (2021.5.30)\n",
            "Requirement already satisfied: chardet<4,>=3.0.2 in /usr/local/lib/python3.7/dist-packages (from requests>=2.19.0->pandas-datareader) (3.0.4)\n",
            "Requirement already satisfied: urllib3!=1.25.0,!=1.25.1,<1.26,>=1.21.1 in /usr/local/lib/python3.7/dist-packages (from requests>=2.19.0->pandas-datareader) (1.24.3)\n"
          ]
        }
      ]
    },
    {
      "cell_type": "code",
      "metadata": {
        "id": "65AKEsMMj7l2"
      },
      "source": [
        "import pandas as pd\n",
        "import matplotlib.pyplot as plt\n",
        "from pandas_datareader import data as pdr"
      ],
      "execution_count": null,
      "outputs": []
    },
    {
      "cell_type": "markdown",
      "metadata": {
        "id": "NECkTYl1rVYg"
      },
      "source": [
        "Work around as Yahoo FInance made a change causing error with Pandas Datareader \n"
      ]
    },
    {
      "cell_type": "code",
      "metadata": {
        "id": "eQnf6ciwrUBZ",
        "colab": {
          "base_uri": "https://localhost:8080/"
        },
        "outputId": "fa07afb6-918b-46f3-afcc-49a3cafd005e"
      },
      "source": [
        "!pip install yfinance\n",
        "import yfinance as yfin\n",
        "yfin.pdr_override()"
      ],
      "execution_count": null,
      "outputs": [
        {
          "output_type": "stream",
          "name": "stdout",
          "text": [
            "Requirement already satisfied: yfinance in /usr/local/lib/python3.7/dist-packages (0.1.63)\n",
            "Requirement already satisfied: requests>=2.20 in /usr/local/lib/python3.7/dist-packages (from yfinance) (2.23.0)\n",
            "Requirement already satisfied: numpy>=1.15 in /usr/local/lib/python3.7/dist-packages (from yfinance) (1.19.5)\n",
            "Requirement already satisfied: lxml>=4.5.1 in /usr/local/lib/python3.7/dist-packages (from yfinance) (4.6.3)\n",
            "Requirement already satisfied: pandas>=0.24 in /usr/local/lib/python3.7/dist-packages (from yfinance) (1.1.5)\n",
            "Requirement already satisfied: multitasking>=0.0.7 in /usr/local/lib/python3.7/dist-packages (from yfinance) (0.0.9)\n",
            "Requirement already satisfied: python-dateutil>=2.7.3 in /usr/local/lib/python3.7/dist-packages (from pandas>=0.24->yfinance) (2.8.2)\n",
            "Requirement already satisfied: pytz>=2017.2 in /usr/local/lib/python3.7/dist-packages (from pandas>=0.24->yfinance) (2018.9)\n",
            "Requirement already satisfied: six>=1.5 in /usr/local/lib/python3.7/dist-packages (from python-dateutil>=2.7.3->pandas>=0.24->yfinance) (1.15.0)\n",
            "Requirement already satisfied: chardet<4,>=3.0.2 in /usr/local/lib/python3.7/dist-packages (from requests>=2.20->yfinance) (3.0.4)\n",
            "Requirement already satisfied: idna<3,>=2.5 in /usr/local/lib/python3.7/dist-packages (from requests>=2.20->yfinance) (2.10)\n",
            "Requirement already satisfied: urllib3!=1.25.0,!=1.25.1,<1.26,>=1.21.1 in /usr/local/lib/python3.7/dist-packages (from requests>=2.20->yfinance) (1.24.3)\n",
            "Requirement already satisfied: certifi>=2017.4.17 in /usr/local/lib/python3.7/dist-packages (from requests>=2.20->yfinance) (2021.5.30)\n"
          ]
        }
      ]
    },
    {
      "cell_type": "markdown",
      "metadata": {
        "id": "NoqWddgEnsgn"
      },
      "source": [
        "## Step 1: Specify date range for analysis \n",
        "\n",
        "Here we begin by creating start and end dates using pythons datetime module. "
      ]
    },
    {
      "cell_type": "code",
      "metadata": {
        "id": "RPfSzWb7gZDE",
        "colab": {
          "base_uri": "https://localhost:8080/"
        },
        "outputId": "1472091c-f499-48ed-bc72-d8e122ba2d7c"
      },
      "source": [
        "help(pdr.get_data_yahoo)"
      ],
      "execution_count": null,
      "outputs": [
        {
          "output_type": "stream",
          "name": "stdout",
          "text": [
            "Help on function download in module yfinance.multi:\n",
            "\n",
            "download(tickers, start=None, end=None, actions=False, threads=True, group_by='column', auto_adjust=False, back_adjust=False, progress=True, period='max', show_errors=True, interval='1d', prepost=False, proxy=None, rounding=False, **kwargs)\n",
            "    Download yahoo tickers\n",
            "    :Parameters:\n",
            "        tickers : str, list\n",
            "            List of tickers to download\n",
            "        period : str\n",
            "            Valid periods: 1d,5d,1mo,3mo,6mo,1y,2y,5y,10y,ytd,max\n",
            "            Either Use period parameter or use start and end\n",
            "        interval : str\n",
            "            Valid intervals: 1m,2m,5m,15m,30m,60m,90m,1h,1d,5d,1wk,1mo,3mo\n",
            "            Intraday data cannot extend last 60 days\n",
            "        start: str\n",
            "            Download start date string (YYYY-MM-DD) or _datetime.\n",
            "            Default is 1900-01-01\n",
            "        end: str\n",
            "            Download end date string (YYYY-MM-DD) or _datetime.\n",
            "            Default is now\n",
            "        group_by : str\n",
            "            Group by 'ticker' or 'column' (default)\n",
            "        prepost : bool\n",
            "            Include Pre and Post market data in results?\n",
            "            Default is False\n",
            "        auto_adjust: bool\n",
            "            Adjust all OHLC automatically? Default is False\n",
            "        actions: bool\n",
            "            Download dividend + stock splits data. Default is False\n",
            "        threads: bool / int\n",
            "            How many threads to use for mass downloading. Default is True\n",
            "        proxy: str\n",
            "            Optional. Proxy server URL scheme. Default is None\n",
            "        rounding: bool\n",
            "            Optional. Round values to 2 decimal places?\n",
            "        show_errors: bool\n",
            "            Optional. Doesn't print errors if True\n",
            "\n"
          ]
        }
      ]
    },
    {
      "cell_type": "code",
      "metadata": {
        "id": "feOLiO913NDa"
      },
      "source": [
        "start = \"2009-01-01\"\n",
        "end = \"2020-09-15\""
      ],
      "execution_count": null,
      "outputs": []
    },
    {
      "cell_type": "markdown",
      "metadata": {
        "id": "13o_1wssoBjF"
      },
      "source": [
        "## Step 2: Select the stocks/tickers you would like to analyse\n",
        "\n",
        "For Australian stocks, yahoo tickers require '.AX' to be specified at the end of the ticker symbol.  For other tickers use the search bar in yahoo finance."
      ]
    },
    {
      "cell_type": "code",
      "metadata": {
        "id": "Y6ZrCfWNgeoZ"
      },
      "source": [
        "tickets = ['NAB.AX', 'WBC.AX', 'CBA.AX']"
      ],
      "execution_count": null,
      "outputs": []
    },
    {
      "cell_type": "markdown",
      "metadata": {
        "id": "xSez_wk4oZZP"
      },
      "source": [
        "# Step 3: call the Pandas_Datareader DataReader module"
      ]
    },
    {
      "cell_type": "code",
      "metadata": {
        "id": "DiHcvM3_lWkw",
        "colab": {
          "base_uri": "https://localhost:8080/"
        },
        "outputId": "cb511dfa-22b8-4976-84ce-fbe5e7a86c3e"
      },
      "source": [
        "df = pdr.get_data_yahoo(tickets, start, end)"
      ],
      "execution_count": null,
      "outputs": [
        {
          "output_type": "stream",
          "name": "stdout",
          "text": [
            "[*********************100%***********************]  3 of 3 completed\n"
          ]
        }
      ]
    },
    {
      "cell_type": "code",
      "metadata": {
        "colab": {
          "base_uri": "https://localhost:8080/"
        },
        "id": "9a3OJ4WI45iD",
        "outputId": "8d92aae6-7798-49e6-eadf-5a16db9e9835"
      },
      "source": [
        "df.index, df.columns, df.head()"
      ],
      "execution_count": null,
      "outputs": [
        {
          "output_type": "execute_result",
          "data": {
            "text/plain": [
              "(DatetimeIndex(['2009-01-02', '2009-01-05', '2009-01-06', '2009-01-07',\n",
              "                '2009-01-08', '2009-01-09', '2009-01-12', '2009-01-13',\n",
              "                '2009-01-14', '2009-01-15',\n",
              "                ...\n",
              "                '2020-09-02', '2020-09-03', '2020-09-04', '2020-09-07',\n",
              "                '2020-09-08', '2020-09-09', '2020-09-10', '2020-09-11',\n",
              "                '2020-09-14', '2020-09-15'],\n",
              "               dtype='datetime64[ns]', name='Date', length=2960, freq=None),\n",
              " MultiIndex([('Adj Close', 'CBA.AX'),\n",
              "             ('Adj Close', 'NAB.AX'),\n",
              "             ('Adj Close', 'WBC.AX'),\n",
              "             (    'Close', 'CBA.AX'),\n",
              "             (    'Close', 'NAB.AX'),\n",
              "             (    'Close', 'WBC.AX'),\n",
              "             (     'High', 'CBA.AX'),\n",
              "             (     'High', 'NAB.AX'),\n",
              "             (     'High', 'WBC.AX'),\n",
              "             (      'Low', 'CBA.AX'),\n",
              "             (      'Low', 'NAB.AX'),\n",
              "             (      'Low', 'WBC.AX'),\n",
              "             (     'Open', 'CBA.AX'),\n",
              "             (     'Open', 'NAB.AX'),\n",
              "             (     'Open', 'WBC.AX'),\n",
              "             (   'Volume', 'CBA.AX'),\n",
              "             (   'Volume', 'NAB.AX'),\n",
              "             (   'Volume', 'WBC.AX')],\n",
              "            ),\n",
              "             Adj Close                      ...     Volume                      \n",
              "                CBA.AX    NAB.AX    WBC.AX  ...     CBA.AX     NAB.AX     WBC.AX\n",
              " Date                                       ...                                 \n",
              " 2009-01-02  14.494561  8.887321  8.648785  ...  2269780.0  2572210.0  3655805.0\n",
              " 2009-01-05  14.196732  8.813263  8.586861  ...  2908531.0  2822855.0  5161118.0\n",
              " 2009-01-06  14.628585  9.035444  8.788116  ...  2564247.0  3803343.0  4922125.0\n",
              " 2009-01-07  14.370469  9.100794  8.705550  ...  3413898.0  4676568.0  5779916.0\n",
              " 2009-01-08  14.176876  9.087723  8.550738  ...  3969963.0  2949396.0  4588396.0\n",
              " \n",
              " [5 rows x 18 columns])"
            ]
          },
          "metadata": {},
          "execution_count": 87
        }
      ]
    },
    {
      "cell_type": "code",
      "metadata": {
        "id": "hwgstu2c6cjT"
      },
      "source": [
        ""
      ],
      "execution_count": null,
      "outputs": []
    },
    {
      "cell_type": "markdown",
      "metadata": {
        "id": "7-Y707wBodqa"
      },
      "source": [
        "## Step 4: Understanding the pandas dataframe structure\n",
        "\n",
        "A good way to quickly understand how a pandas dataframe is structured is to look at the index and the columns."
      ]
    },
    {
      "cell_type": "code",
      "metadata": {
        "id": "uu_BWD_llZ9q"
      },
      "source": [
        ""
      ],
      "execution_count": null,
      "outputs": []
    },
    {
      "cell_type": "markdown",
      "metadata": {
        "id": "xmcQWB9Vo8pX"
      },
      "source": [
        "## Step 5: Access useful attributes easily\n",
        "\n",
        "We are interested in the closing price information for all of these stocks."
      ]
    },
    {
      "cell_type": "code",
      "metadata": {
        "id": "rVugNpr-olSV",
        "colab": {
          "base_uri": "https://localhost:8080/",
          "height": 446
        },
        "outputId": "fb8b658f-a41f-4539-eb9e-ca3e65c53461"
      },
      "source": [
        "Close = df.Close\n",
        "Close"
      ],
      "execution_count": null,
      "outputs": [
        {
          "output_type": "execute_result",
          "data": {
            "text/html": [
              "<div>\n",
              "<style scoped>\n",
              "    .dataframe tbody tr th:only-of-type {\n",
              "        vertical-align: middle;\n",
              "    }\n",
              "\n",
              "    .dataframe tbody tr th {\n",
              "        vertical-align: top;\n",
              "    }\n",
              "\n",
              "    .dataframe thead th {\n",
              "        text-align: right;\n",
              "    }\n",
              "</style>\n",
              "<table border=\"1\" class=\"dataframe\">\n",
              "  <thead>\n",
              "    <tr style=\"text-align: right;\">\n",
              "      <th></th>\n",
              "      <th>CBA.AX</th>\n",
              "      <th>NAB.AX</th>\n",
              "      <th>WBC.AX</th>\n",
              "    </tr>\n",
              "    <tr>\n",
              "      <th>Date</th>\n",
              "      <th></th>\n",
              "      <th></th>\n",
              "      <th></th>\n",
              "    </tr>\n",
              "  </thead>\n",
              "  <tbody>\n",
              "    <tr>\n",
              "      <th>2009-01-02</th>\n",
              "      <td>29.042646</td>\n",
              "      <td>19.406162</td>\n",
              "      <td>16.646669</td>\n",
              "    </tr>\n",
              "    <tr>\n",
              "      <th>2009-01-05</th>\n",
              "      <td>28.445881</td>\n",
              "      <td>19.244446</td>\n",
              "      <td>16.527479</td>\n",
              "    </tr>\n",
              "    <tr>\n",
              "      <th>2009-01-06</th>\n",
              "      <td>29.311192</td>\n",
              "      <td>19.729599</td>\n",
              "      <td>16.914843</td>\n",
              "    </tr>\n",
              "    <tr>\n",
              "      <th>2009-01-07</th>\n",
              "      <td>28.793995</td>\n",
              "      <td>19.872292</td>\n",
              "      <td>16.755924</td>\n",
              "    </tr>\n",
              "    <tr>\n",
              "      <th>2009-01-08</th>\n",
              "      <td>28.406096</td>\n",
              "      <td>19.843754</td>\n",
              "      <td>16.457954</td>\n",
              "    </tr>\n",
              "    <tr>\n",
              "      <th>...</th>\n",
              "      <td>...</td>\n",
              "      <td>...</td>\n",
              "      <td>...</td>\n",
              "    </tr>\n",
              "    <tr>\n",
              "      <th>2020-09-09</th>\n",
              "      <td>66.790001</td>\n",
              "      <td>17.440001</td>\n",
              "      <td>17.070000</td>\n",
              "    </tr>\n",
              "    <tr>\n",
              "      <th>2020-09-10</th>\n",
              "      <td>66.720001</td>\n",
              "      <td>17.320000</td>\n",
              "      <td>17.000000</td>\n",
              "    </tr>\n",
              "    <tr>\n",
              "      <th>2020-09-11</th>\n",
              "      <td>65.800003</td>\n",
              "      <td>17.150000</td>\n",
              "      <td>16.809999</td>\n",
              "    </tr>\n",
              "    <tr>\n",
              "      <th>2020-09-14</th>\n",
              "      <td>66.169998</td>\n",
              "      <td>17.400000</td>\n",
              "      <td>16.969999</td>\n",
              "    </tr>\n",
              "    <tr>\n",
              "      <th>2020-09-15</th>\n",
              "      <td>65.029999</td>\n",
              "      <td>17.160000</td>\n",
              "      <td>16.719999</td>\n",
              "    </tr>\n",
              "  </tbody>\n",
              "</table>\n",
              "<p>2960 rows × 3 columns</p>\n",
              "</div>"
            ],
            "text/plain": [
              "               CBA.AX     NAB.AX     WBC.AX\n",
              "Date                                       \n",
              "2009-01-02  29.042646  19.406162  16.646669\n",
              "2009-01-05  28.445881  19.244446  16.527479\n",
              "2009-01-06  29.311192  19.729599  16.914843\n",
              "2009-01-07  28.793995  19.872292  16.755924\n",
              "2009-01-08  28.406096  19.843754  16.457954\n",
              "...               ...        ...        ...\n",
              "2020-09-09  66.790001  17.440001  17.070000\n",
              "2020-09-10  66.720001  17.320000  17.000000\n",
              "2020-09-11  65.800003  17.150000  16.809999\n",
              "2020-09-14  66.169998  17.400000  16.969999\n",
              "2020-09-15  65.029999  17.160000  16.719999\n",
              "\n",
              "[2960 rows x 3 columns]"
            ]
          },
          "metadata": {},
          "execution_count": 88
        }
      ]
    },
    {
      "cell_type": "markdown",
      "metadata": {
        "id": "DKbUd2tcpGl3"
      },
      "source": [
        "## Step 6: Gain insights quickly with pandas describe method\n"
      ]
    },
    {
      "cell_type": "code",
      "metadata": {
        "id": "n2_QynuJpBZQ",
        "colab": {
          "base_uri": "https://localhost:8080/",
          "height": 294
        },
        "outputId": "8ec0801c-c48a-4b3a-fe1f-38fe0d82224d"
      },
      "source": [
        "Close.describe(percentiles=[.1,.5,.9])"
      ],
      "execution_count": null,
      "outputs": [
        {
          "output_type": "execute_result",
          "data": {
            "text/html": [
              "<div>\n",
              "<style scoped>\n",
              "    .dataframe tbody tr th:only-of-type {\n",
              "        vertical-align: middle;\n",
              "    }\n",
              "\n",
              "    .dataframe tbody tr th {\n",
              "        vertical-align: top;\n",
              "    }\n",
              "\n",
              "    .dataframe thead th {\n",
              "        text-align: right;\n",
              "    }\n",
              "</style>\n",
              "<table border=\"1\" class=\"dataframe\">\n",
              "  <thead>\n",
              "    <tr style=\"text-align: right;\">\n",
              "      <th></th>\n",
              "      <th>CBA.AX</th>\n",
              "      <th>NAB.AX</th>\n",
              "      <th>WBC.AX</th>\n",
              "    </tr>\n",
              "  </thead>\n",
              "  <tbody>\n",
              "    <tr>\n",
              "      <th>count</th>\n",
              "      <td>2958.000000</td>\n",
              "      <td>2958.000000</td>\n",
              "      <td>2958.000000</td>\n",
              "    </tr>\n",
              "    <tr>\n",
              "      <th>mean</th>\n",
              "      <td>67.076213</td>\n",
              "      <td>26.782174</td>\n",
              "      <td>27.205432</td>\n",
              "    </tr>\n",
              "    <tr>\n",
              "      <th>std</th>\n",
              "      <td>14.679221</td>\n",
              "      <td>4.443613</td>\n",
              "      <td>5.314568</td>\n",
              "    </tr>\n",
              "    <tr>\n",
              "      <th>min</th>\n",
              "      <td>23.940290</td>\n",
              "      <td>13.880000</td>\n",
              "      <td>14.100000</td>\n",
              "    </tr>\n",
              "    <tr>\n",
              "      <th>10%</th>\n",
              "      <td>48.678260</td>\n",
              "      <td>21.436200</td>\n",
              "      <td>20.037583</td>\n",
              "    </tr>\n",
              "    <tr>\n",
              "      <th>50%</th>\n",
              "      <td>72.209999</td>\n",
              "      <td>26.850000</td>\n",
              "      <td>27.979757</td>\n",
              "    </tr>\n",
              "    <tr>\n",
              "      <th>90%</th>\n",
              "      <td>82.452003</td>\n",
              "      <td>32.582266</td>\n",
              "      <td>33.521782</td>\n",
              "    </tr>\n",
              "    <tr>\n",
              "      <th>max</th>\n",
              "      <td>95.800949</td>\n",
              "      <td>37.642250</td>\n",
              "      <td>39.620266</td>\n",
              "    </tr>\n",
              "  </tbody>\n",
              "</table>\n",
              "</div>"
            ],
            "text/plain": [
              "            CBA.AX       NAB.AX       WBC.AX\n",
              "count  2958.000000  2958.000000  2958.000000\n",
              "mean     67.076213    26.782174    27.205432\n",
              "std      14.679221     4.443613     5.314568\n",
              "min      23.940290    13.880000    14.100000\n",
              "10%      48.678260    21.436200    20.037583\n",
              "50%      72.209999    26.850000    27.979757\n",
              "90%      82.452003    32.582266    33.521782\n",
              "max      95.800949    37.642250    39.620266"
            ]
          },
          "metadata": {},
          "execution_count": 89
        }
      ]
    },
    {
      "cell_type": "markdown",
      "metadata": {
        "id": "efy-YAV1ph8T"
      },
      "source": [
        "## Step 7: Plot and save"
      ]
    },
    {
      "cell_type": "code",
      "metadata": {
        "id": "O3EPGjFqpS4-",
        "colab": {
          "base_uri": "https://localhost:8080/",
          "height": 374
        },
        "outputId": "e343335c-ef3f-4d2c-f21d-d9d33d59b972"
      },
      "source": [
        "Close.plot(figsize=(12,7))\n",
        "plt.savefig('aussie_banks.pdf')"
      ],
      "execution_count": null,
      "outputs": [
        {
          "output_type": "display_data",
          "data": {
            "image/png": "[encoded data removed]",
            "text/plain": [
              "<Figure size 864x504 with 1 Axes>"
            ]
          },
          "metadata": {
            "needs_background": "light"
          }
        }
      ]
    },
    {
      "cell_type": "code",
      "metadata": {
        "id": "U0YwwBhc8wXo"
      },
      "source": [
        ""
      ],
      "execution_count": null,
      "outputs": []
    }
  ]
}