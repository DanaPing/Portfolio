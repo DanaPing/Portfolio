{
  "nbformat": 4,
  "nbformat_minor": 0,
  "metadata": {
    "colab": {
      "name": "Payslip.ipynb",
      "provenance": [],
      "collapsed_sections": [],
      "include_colab_link": true
    },
    "kernelspec": {
      "name": "python3",
      "display_name": "Python 3"
    },
    "language_info": {
      "name": "python"
    }
  },
  "cells": [
    {
      "cell_type": "markdown",
      "metadata": {
        "id": "view-in-github",
        "colab_type": "text"
      },
      "source": [
        "<a href=\"https://colab.research.google.com/github/DanaPing/Portfolio/blob/main/Payslip.ipynb\" target=\"_parent\"><img src=\"https://colab.research.google.com/assets/colab-badge.svg\" alt=\"Open In Colab\"/></a>"
      ]
    },
    {
      "cell_type": "markdown",
      "metadata": {
        "id": "kF8ldRydTDPx"
      },
      "source": [
        "We need to program to print out a payslip for sales people.  Consider 'Ram' who has a salary of \\$25000.  They have sold goods worth $20000 and earns 2% commision on the sales. They fall into the 10% tax bracket and so before making payments we need to deduct 10% form his total payout."
      ]
    },
    {
      "cell_type": "code",
      "metadata": {
        "colab": {
          "base_uri": "https://localhost:8080/"
        },
        "id": "2UenEHfcTuLz",
        "outputId": "df1efc5e-dda9-491a-d31e-97fd54206900"
      },
      "source": [
        "salary = 30000 #25000\n",
        "sales = 40000 #20000\n",
        "commission = 0.02 * sales\n",
        "tax = (salary + commission) * 0.10\n",
        "pay = salary + commission - tax\n",
        "print('Payslip of Ram') #ram\n",
        "print('Salary', salary,'Commission',commission,'Tax', tax)\n",
        "print('Total pay',pay)"
      ],
      "execution_count": null,
      "outputs": [
        {
          "output_type": "stream",
          "text": [
            "Payslip of Ram\n",
            "Salary 30000 Commission 800.0 Tax 3080.0\n",
            "Total pay 27720.0\n"
          ],
          "name": "stdout"
        }
      ]
    },
    {
      "cell_type": "markdown",
      "metadata": {
        "id": "QzcJGzRBUDz2"
      },
      "source": [
        "Consider 'Radha' who has a salary of \\$30000.  They have sold goods worth $40000 and earns 2.5% commision on the sales. They fall into the 10% tax bracket and so before making payments we need to deduct 10% form his total payout."
      ]
    },
    {
      "cell_type": "code",
      "metadata": {
        "id": "wFmuD9ujUgDW"
      },
      "source": [
        "def printPaySlip(salary,sales, rate,name):\n",
        "  #salary = 30000 #25000\n",
        "  #sales = 40000 #20000\n",
        "  commission = rate *sales\n",
        "  tax = (salary + commission) * 0.10\n",
        "  pay = salary + commission - tax\n",
        "  print('Payslip of ' + name) #ram\n",
        "  print('Salary', salary,'Commission',commission,'Tax', tax)\n",
        "  print('Total pay',pay)"
      ],
      "execution_count": null,
      "outputs": []
    },
    {
      "cell_type": "markdown",
      "metadata": {
        "id": "UFGObxq7UlvE"
      },
      "source": [
        "What did we change from Ram to Radha?"
      ]
    },
    {
      "cell_type": "code",
      "metadata": {
        "id": "zMEi9q1dUr36",
        "colab": {
          "base_uri": "https://localhost:8080/"
        },
        "outputId": "a20ce34b-0197-45ca-c265-e87ad1489920"
      },
      "source": [
        "printPaySlip(30000, 40000, 0.025, 'Radha')"
      ],
      "execution_count": null,
      "outputs": [
        {
          "output_type": "stream",
          "text": [
            "Payslip of Radha\n",
            "Salary 30000 Commission 1000.0 Tax 3100.0\n",
            "Total pay 27900.0\n"
          ],
          "name": "stdout"
        }
      ]
    },
    {
      "cell_type": "markdown",
      "metadata": {
        "id": "7PrlmDmYV6iX"
      },
      "source": [
        "Make what we changed as inputs (parameters) to a function"
      ]
    },
    {
      "cell_type": "code",
      "metadata": {
        "id": "cJwgf8nZWDF6"
      },
      "source": [
        ""
      ],
      "execution_count": null,
      "outputs": []
    }
  ]
}