{
  "nbformat": 4,
  "nbformat_minor": 5,
  "metadata": {
    "kernelspec": {
      "display_name": "Python 3 (ipykernel)",
      "language": "python",
      "name": "python3"
    },
    "language_info": {
      "codemirror_mode": {
        "name": "ipython",
        "version": 3
      },
      "file_extension": ".py",
      "mimetype": "text/x-python",
      "name": "python",
      "nbconvert_exporter": "python",
      "pygments_lexer": "ipython3",
      "version": "3.9.6"
    },
    "colab": {
      "name": "input_validation.ipynb",
      "provenance": [],
      "collapsed_sections": [],
      "include_colab_link": true
    }
  },
  "cells": [
    {
      "cell_type": "markdown",
      "metadata": {
        "id": "view-in-github",
        "colab_type": "text"
      },
      "source": [
        "<a href=\"https://colab.research.google.com/github/DanaPing/Portfolio/blob/main/input_validation.ipynb\" target=\"_parent\"><img src=\"https://colab.research.google.com/assets/colab-badge.svg\" alt=\"Open In Colab\"/></a>"
      ]
    },
    {
      "cell_type": "markdown",
      "metadata": {
        "id": "b5835b0c"
      },
      "source": [
        "# Input Validation\n",
        "\n",
        "Input validation code verifies that user supplied data, such as text from the input() function, is formatted appropriately.\n",
        "\n",
        "* try/except\n",
        "* isdigit()\n",
        "* pyinputplus\n",
        "\n",
        "## try/except"
      ],
      "id": "b5835b0c"
    },
    {
      "cell_type": "code",
      "metadata": {
        "id": "695b1f5f"
      },
      "source": [
        "while True:\n",
        "    try:\n",
        "        age = int(input('How old are you? '))\n",
        "        break\n",
        "    except ValueError:\n",
        "        print('Please enter a whole number')\n",
        "\n",
        "print('Your age is: ' + str(age))\n",
        "\n",
        "#Reference: http://www.easypythondocs.com/validation.html\n",
        "\n"
      ],
      "id": "695b1f5f",
      "execution_count": null,
      "outputs": []
    },
    {
      "cell_type": "code",
      "metadata": {
        "id": "NH0jHx5oxPk4"
      },
      "source": [
        "type(True)"
      ],
      "id": "NH0jHx5oxPk4",
      "execution_count": null,
      "outputs": []
    },
    {
      "cell_type": "code",
      "metadata": {
        "id": "_vLnQb1xxyrQ"
      },
      "source": [
        "def get_integer(prompt):\n",
        "  while True:\n",
        "      try:\n",
        "          number = int(input('How old are you? '))\n",
        "          break\n",
        "      except ValueError:\n",
        "          print('Please enter a whole number')\n",
        "\n",
        "  return number\n",
        "\n",
        "#Reference: http://www.easypythondocs.com/validation.html\n"
      ],
      "id": "_vLnQb1xxyrQ",
      "execution_count": null,
      "outputs": []
    },
    {
      "cell_type": "code",
      "metadata": {
        "id": "e_GwEaxNyFhB"
      },
      "source": [
        "age = get_integer(\"How old are you\")\n",
        "print('Your age is: ' + str(age))"
      ],
      "id": "e_GwEaxNyFhB",
      "execution_count": null,
      "outputs": []
    },
    {
      "cell_type": "code",
      "metadata": {
        "id": "H_EaldX6x_gh"
      },
      "source": [
        "dir()"
      ],
      "id": "H_EaldX6x_gh",
      "execution_count": null,
      "outputs": []
    },
    {
      "cell_type": "markdown",
      "metadata": {
        "id": "acc7252b"
      },
      "source": [
        "## isdigit()"
      ],
      "id": "acc7252b"
    },
    {
      "cell_type": "code",
      "metadata": {
        "id": "5f98c241"
      },
      "source": [
        "while True:\n",
        "        age = input('How old are you? ')\n",
        "        if age.isdigit():\n",
        "          age = int(age)\n",
        "          break\n",
        "        else:\n",
        "         print('You must enter a valid number')\n",
        "\n",
        "print('Your age is: ' + str(age))"
      ],
      "id": "5f98c241",
      "execution_count": null,
      "outputs": []
    },
    {
      "cell_type": "code",
      "metadata": {
        "id": "jtCmrL8dxyWp"
      },
      "source": [
        ""
      ],
      "id": "jtCmrL8dxyWp",
      "execution_count": null,
      "outputs": []
    },
    {
      "cell_type": "markdown",
      "metadata": {
        "id": "18c00dc3"
      },
      "source": [
        "## Module: pyinputs"
      ],
      "id": "18c00dc3"
    },
    {
      "cell_type": "code",
      "metadata": {
        "id": "vUeYFuNF1Laf"
      },
      "source": [
        "!pip install PyInputPlus"
      ],
      "id": "vUeYFuNF1Laf",
      "execution_count": null,
      "outputs": []
    },
    {
      "cell_type": "code",
      "metadata": {
        "id": "8lfR_Ey51mLo"
      },
      "source": [
        "import pyinputplus as pyip\n",
        "age = pyip.inputNum(\"How old are you\")\n",
        "print('Your age is: ' + str(age))"
      ],
      "id": "8lfR_Ey51mLo",
      "execution_count": null,
      "outputs": []
    },
    {
      "cell_type": "code",
      "metadata": {
        "id": "gLuJZ7IX1WFs"
      },
      "source": [
        "help(pyip. inputNum)"
      ],
      "id": "gLuJZ7IX1WFs",
      "execution_count": null,
      "outputs": []
    },
    {
      "cell_type": "code",
      "metadata": {
        "id": "AzYAUdi91uBH"
      },
      "source": [
        ""
      ],
      "id": "AzYAUdi91uBH",
      "execution_count": null,
      "outputs": []
    }
  ]
}