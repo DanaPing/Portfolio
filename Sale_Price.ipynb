{
  "nbformat": 4,
  "nbformat_minor": 0,
  "metadata": {
    "colab": {
      "name": "Sale_Price.ipynb",
      "provenance": [],
      "collapsed_sections": [],
      "include_colab_link": true
    },
    "kernelspec": {
      "name": "python3",
      "display_name": "Python 3"
    },
    "language_info": {
      "name": "python"
    }
  },
  "cells": [
    {
      "cell_type": "markdown",
      "metadata": {
        "id": "view-in-github",
        "colab_type": "text"
      },
      "source": [
        "<a href=\"https://colab.research.google.com/github/DanaPing/Portfolio/blob/main/Sale_Price.ipynb\" target=\"_parent\"><img src=\"https://colab.research.google.com/assets/colab-badge.svg\" alt=\"Open In Colab\"/></a>"
      ]
    },
    {
      "cell_type": "markdown",
      "metadata": {
        "id": "cgTeiXOtSPjH"
      },
      "source": [
        "A local department store needs to develop a program which when given an **items **  **original price** and percentage it has been **discounted**, will computer the **total price** (including goods and services tax) of the item on sale."
      ]
    },
    {
      "cell_type": "markdown",
      "metadata": {
        "id": "aWvbICIwqISr"
      },
      "source": [
        "What the results I am trying to obtain\n",
        "what data does needs to be provided\n",
        "how will we obtain the output form the given input\n",
        "\n",
        "Input -> processing -> Output\n",
        "\n",
        "\n",
        "Item Name \n",
        "Discounted price\n",
        "GST\n",
        "Total Price\n",
        "\n",
        "Input\n",
        "\n",
        "\n",
        "*   Item_name\n",
        "*   gst\n",
        "*   original_price\n",
        "*   discount_rate\n",
        "\n",
        "Output\n",
        "\n",
        "*   item_name\n",
        "*   sale_price\n",
        "\n",
        "### Calculation\n",
        "*   Calculate sale price\n",
        "*   discount\n",
        "\n",
        "Assume i have a book, original price is 50, discount by 20%\n",
        "savings: 50 x 20% = 10\n",
        "\n",
        "\n",
        "\n",
        "\n",
        "\n"
      ]
    },
    {
      "cell_type": "code",
      "metadata": {
        "id": "pPIN2ZcrSqdw",
        "colab": {
          "base_uri": "https://localhost:8080/"
        },
        "outputId": "11af0279-e606-4eb1-cd98-085c9db5981b"
      },
      "source": [
        "50 * 20/100"
      ],
      "execution_count": null,
      "outputs": [
        {
          "output_type": "execute_result",
          "data": {
            "text/plain": [
              "10.0"
            ]
          },
          "metadata": {},
          "execution_count": 1
        }
      ]
    },
    {
      "cell_type": "markdown",
      "metadata": {
        "id": "5fXS4pFFs_Mp"
      },
      "source": [
        "sale_rice = 50 - 10 = 40\n",
        "\n",
        "formula:\n",
        "sale_price = original_price - savings\n",
        "\n",
        "savings = original_price x (discount rate/100)"
      ]
    },
    {
      "cell_type": "code",
      "metadata": {
        "colab": {
          "base_uri": "https://localhost:8080/"
        },
        "id": "U5qLMUE1tlSO",
        "outputId": "2283879f-6961-410a-e756-4961187eda3d"
      },
      "source": [
        "original_price = 50\n",
        "discount_rate = 20\n",
        "\n",
        "savings = original_price *(discount_rate / 100)\n",
        "sale_price = original_price - savings\n",
        "\n",
        "print(\"amount saved:\" , savings)\n",
        "print(\"saleprice: \"  , sale_price)"
      ],
      "execution_count": null,
      "outputs": [
        {
          "output_type": "stream",
          "text": [
            "amount saved: 10.0\n",
            "saleprice:  40.0\n"
          ],
          "name": "stdout"
        }
      ]
    },
    {
      "cell_type": "code",
      "metadata": {
        "id": "6r9N9hZxtz7v"
      },
      "source": [
        ""
      ],
      "execution_count": null,
      "outputs": []
    },
    {
      "cell_type": "markdown",
      "metadata": {
        "id": "XewI4pcAusMX"
      },
      "source": [
        "Tax is calculayed on sale price\n",
        "tax = sale_price*gst"
      ]
    },
    {
      "cell_type": "code",
      "metadata": {
        "colab": {
          "base_uri": "https://localhost:8080/"
        },
        "id": "TEQFfPdYuydr",
        "outputId": "6dc09766-b6ac-4589-ada8-64129db8043f"
      },
      "source": [
        "gst= 10\n",
        "tax = sale_price *gst/100\n",
        "total_price = sale_price + tax\n",
        "print(\"Total Price:\", total_price)"
      ],
      "execution_count": null,
      "outputs": [
        {
          "output_type": "stream",
          "text": [
            "Total Price: 44.0\n"
          ],
          "name": "stdout"
        }
      ]
    },
    {
      "cell_type": "code",
      "metadata": {
        "id": "moxiiXU6u90S"
      },
      "source": [
        ""
      ],
      "execution_count": null,
      "outputs": []
    },
    {
      "cell_type": "markdown",
      "metadata": {
        "id": "iBuNvneTvY7-"
      },
      "source": [
        "## processing/algorithm\n",
        "\n",
        "1. Input data\n",
        "2. perform the calculations\n",
        "3. output the results\n",
        "\n",
        "\n"
      ]
    },
    {
      "cell_type": "markdown",
      "metadata": {
        "id": "3YaeTQgNv008"
      },
      "source": [
        "# Modular\n",
        "* easier to read\n",
        "* think about each step\n",
        "* reuse module\n",
        "* build library of common tasks\n",
        "\n",
        "#Input Data Module (step 1)\n",
        "      Input Item Name \n",
        "      Input Original Price\n",
        "      Input Discount Rate"
      ]
    },
    {
      "cell_type": "code",
      "metadata": {
        "id": "Vja1sHXGwn58"
      },
      "source": [
        "def inputData():\n",
        "   item_name = input(\"Please enter the item name:\")\n",
        "   original_price = int(input(\"Please enter the original price:\"))\n",
        "   discount_rate = int(input(\"Please enter the discount rate\"))\n",
        "   return item_name, original_price, discount_rate"
      ],
      "execution_count": null,
      "outputs": []
    },
    {
      "cell_type": "code",
      "metadata": {
        "id": "f_7PzJDGw47I"
      },
      "source": [
        ""
      ],
      "execution_count": null,
      "outputs": []
    },
    {
      "cell_type": "markdown",
      "metadata": {
        "id": "HnH1A1riyMRJ"
      },
      "source": [
        "### Input Data Module (Step1) v0.2\n",
        "Write \"Pleas e input the item name\"\n",
        "input item name\n",
        "write please enter original price \n",
        "input original price\n",
        "...\n"
      ]
    },
    {
      "cell_type": "code",
      "metadata": {
        "id": "30D5vuebydZS"
      },
      "source": [
        ""
      ],
      "execution_count": null,
      "outputs": []
    },
    {
      "cell_type": "markdown",
      "metadata": {
        "id": "b7jdrAx_yeTL"
      },
      "source": [
        "### Output result module\n",
        " write \"The item is + item name\n",
        " write pre sale prices was : original prrice"
      ]
    },
    {
      "cell_type": "code",
      "metadata": {
        "id": "tXaXdN_3y76s"
      },
      "source": [
        "def outputResult(item_name, origina_price, total_price):\n",
        "   print(\"Theitem is :\" , item_name)\n",
        "   print(\"sale price is\" , original_price)\n",
        "   print(\"the total price is \", total_price)"
      ],
      "execution_count": null,
      "outputs": []
    },
    {
      "cell_type": "code",
      "metadata": {
        "id": "Ff6PAV_i0FAp"
      },
      "source": [
        ""
      ],
      "execution_count": null,
      "outputs": []
    },
    {
      "cell_type": "code",
      "metadata": {
        "colab": {
          "base_uri": "https://localhost:8080/"
        },
        "id": "IX3NbfhozfxU",
        "outputId": "55836ecc-3b38-47be-cd12-2ed936769a8a"
      },
      "source": [
        "outputResult(\"Python programming book\", 50,total_price)"
      ],
      "execution_count": null,
      "outputs": [
        {
          "output_type": "stream",
          "text": [
            "Theitem is : Python programming book\n",
            "sale price is 50\n",
            "the total price is  44.0\n"
          ],
          "name": "stdout"
        }
      ]
    },
    {
      "cell_type": "code",
      "metadata": {
        "id": "IUneRGjwzyiG"
      },
      "source": [
        ""
      ],
      "execution_count": null,
      "outputs": []
    },
    {
      "cell_type": "markdown",
      "metadata": {
        "id": "Bri06UfyzzM-"
      },
      "source": [
        "## perform the calculation\n",
        "    amount saved = origina_ price - savings\n",
        "    sale_price = original_price - savings"
      ]
    },
    {
      "cell_type": "code",
      "metadata": {
        "id": "rsQJKXHm0F1A"
      },
      "source": [
        "def calculateTotalPrice(original_price, discount_rate):\n",
        " savings = original_price *(discount_rate / 100)\n",
        " sale_price = original_price - savings\n",
        " gst = 10\n",
        " tax = sale_price *gst/100\n",
        " total_price = sale_price + tax\n",
        " return total_price"
      ],
      "execution_count": null,
      "outputs": []
    },
    {
      "cell_type": "code",
      "metadata": {
        "colab": {
          "base_uri": "https://localhost:8080/"
        },
        "id": "X1Mu9dEj0OLD",
        "outputId": "edc297b8-f671-46df-c79e-d46b79a18b28"
      },
      "source": [
        "calculateTotalPrice(50,20)"
      ],
      "execution_count": null,
      "outputs": [
        {
          "output_type": "execute_result",
          "data": {
            "text/plain": [
              "44.0"
            ]
          },
          "metadata": {},
          "execution_count": 8
        }
      ]
    },
    {
      "cell_type": "code",
      "metadata": {
        "colab": {
          "base_uri": "https://localhost:8080/"
        },
        "id": "HODcK5QK1S4I",
        "outputId": "9426c54a-839a-4e32-aa25-18a1261c0ace"
      },
      "source": [
        "# Input data\n",
        "name, price, discount = inputData()\n",
        "# Perform the Calculation\n",
        "total = calculateTotalPrice(price, discount)\n",
        "#Output data\n",
        "outputResult(name, price, total)"
      ],
      "execution_count": null,
      "outputs": [
        {
          "output_type": "stream",
          "text": [
            "Please enter the item name:d \n",
            "Please enter the original price:3\n",
            "Please enter the discount rate4\n",
            "Theitem is : d \n",
            "sale price is 50\n",
            "the total price is  3.1679999999999997\n"
          ],
          "name": "stdout"
        }
      ]
    },
    {
      "cell_type": "code",
      "metadata": {
        "colab": {
          "base_uri": "https://localhost:8080/"
        },
        "id": "BxQOMlnP-Ks1",
        "outputId": "40af5590-71c5-48d4-b886-fba302b6b62a"
      },
      "source": [
        "help(outputResult)"
      ],
      "execution_count": null,
      "outputs": [
        {
          "output_type": "stream",
          "text": [
            "Help on function outputResult in module __main__:\n",
            "\n",
            "outputResult(item_name, origina_price, total_price)\n",
            "\n"
          ],
          "name": "stdout"
        }
      ]
    },
    {
      "cell_type": "code",
      "metadata": {
        "id": "gQI75HzQ-Mrf"
      },
      "source": [
        ""
      ],
      "execution_count": null,
      "outputs": []
    }
  ]
}