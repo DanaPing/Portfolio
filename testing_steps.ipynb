{
  "nbformat": 4,
  "nbformat_minor": 0,
  "metadata": {
    "colab": {
      "name": "testing_steps.ipynb",
      "provenance": [],
      "collapsed_sections": [],
      "include_colab_link": true
    },
    "kernelspec": {
      "name": "python3",
      "display_name": "Python 3"
    },
    "language_info": {
      "name": "python"
    }
  },
  "cells": [
    {
      "cell_type": "markdown",
      "metadata": {
        "id": "view-in-github",
        "colab_type": "text"
      },
      "source": [
        "<a href=\"https://colab.research.google.com/github/DanaPing/Portfolio/blob/main/testing_steps.ipynb\" target=\"_parent\"><img src=\"https://colab.research.google.com/assets/colab-badge.svg\" alt=\"Open In Colab\"/></a>"
      ]
    },
    {
      "cell_type": "markdown",
      "metadata": {
        "id": "POvFINhTDMu9"
      },
      "source": [
        "Print Statement"
      ]
    },
    {
      "cell_type": "code",
      "metadata": {
        "id": "5pEUXvhpDQBX"
      },
      "source": [
        "def my_func(x, y, z):\n",
        "    print(\"x = \", x)\n",
        "    return x * y + z\n",
        "  "
      ],
      "execution_count": null,
      "outputs": []
    },
    {
      "cell_type": "code",
      "metadata": {
        "colab": {
          "base_uri": "https://localhost:8080/"
        },
        "id": "qIhDK2xCDWp0",
        "outputId": "10ca7c8e-9731-406a-8b55-4aab5260374f"
      },
      "source": [
        "my_func(1,2,3)"
      ],
      "execution_count": null,
      "outputs": [
        {
          "output_type": "stream",
          "name": "stdout",
          "text": [
            "x =  1\n"
          ]
        },
        {
          "output_type": "execute_result",
          "data": {
            "text/plain": [
              "5"
            ]
          },
          "metadata": {},
          "execution_count": 2
        }
      ]
    },
    {
      "cell_type": "markdown",
      "metadata": {
        "id": "-xcnFuWmxrX8"
      },
      "source": [
        "# Assert Statement"
      ]
    },
    {
      "cell_type": "code",
      "metadata": {
        "id": "EmBvrh6q1Kd2"
      },
      "source": [
        "def my_func(x, y, z):\n",
        "#assert x > 0, \"X should be a postive number\"\n",
        "    return x * y + z"
      ],
      "execution_count": null,
      "outputs": []
    },
    {
      "cell_type": "code",
      "metadata": {
        "id": "AiW10zSqxxr8"
      },
      "source": [
        "# test result\n",
        "result = my_func(1,1,3)\n",
        "\n",
        "#assert, boolean expersions\n",
        "assert result == 4, 'Should be 4'"
      ],
      "execution_count": null,
      "outputs": []
    },
    {
      "cell_type": "code",
      "metadata": {
        "id": "4_L7stIYw7W0"
      },
      "source": [
        "assert my_func(1,1,3) == 4, \"Should be 4\""
      ],
      "execution_count": null,
      "outputs": []
    },
    {
      "cell_type": "code",
      "metadata": {
        "id": "m5-IRoZjx1P4"
      },
      "source": [
        "# test function\n",
        "assert my_func(1,1,3) == 4, \"Should be 4\""
      ],
      "execution_count": null,
      "outputs": []
    },
    {
      "cell_type": "code",
      "metadata": {
        "id": "Rs4kX-Z91jn3"
      },
      "source": [
        "# test something wrong\n",
        "assert my_func(1,1,3) == 4, \"Should be 4\""
      ],
      "execution_count": null,
      "outputs": []
    },
    {
      "cell_type": "markdown",
      "metadata": {
        "id": "fSejL2YIx3BI"
      },
      "source": [
        "# Write functions\n",
        "\n",
        "Wrap the asert statement inside functions\n",
        "\n",
        "The write a function that call the test functions"
      ]
    },
    {
      "cell_type": "code",
      "metadata": {
        "id": "XJUEKmdBxqU1",
        "colab": {
          "base_uri": "https://localhost:8080/"
        },
        "outputId": "dd54179e-d065-4775-efb5-035da37e7121"
      },
      "source": [
        "def test_my_func_three_numbers():\n",
        "  assert my_func(1,1,3) == 4, \"Should be 4\"\n",
        "  assert my_func(1,2,3) == 5, \"Should be 5\"\n",
        "\n",
        "def test_my_func_string_number_string():\n",
        "  result = my_func(\"hello\", 3, \"world\")\n",
        "  assert result == 'hello hello hello world', 'Check my_func can handle strings!'\n",
        "\n",
        "def run_test():\n",
        "  print(\"Running tests\")\n",
        "  test_my_func_three_numbers()\n",
        "  print(\"All tests passed\")\n",
        "\n",
        "run_test()"
      ],
      "execution_count": null,
      "outputs": [
        {
          "output_type": "stream",
          "name": "stdout",
          "text": [
            "Running tests\n",
            "All tests passed\n"
          ]
        }
      ]
    },
    {
      "cell_type": "code",
      "metadata": {
        "colab": {
          "base_uri": "https://localhost:8080/",
          "height": 35
        },
        "id": "T6fn74_wys2X",
        "outputId": "43d9c668-baa6-485c-b14f-c85d2bcdf0f6"
      },
      "source": [
        "my_func(\"hello\", 3, \"world\")"
      ],
      "execution_count": null,
      "outputs": [
        {
          "output_type": "execute_result",
          "data": {
            "application/vnd.google.colaboratory.intrinsic+json": {
              "type": "string"
            },
            "text/plain": [
              "'hellohellohelloworld'"
            ]
          },
          "metadata": {},
          "execution_count": 9
        }
      ]
    },
    {
      "cell_type": "markdown",
      "metadata": {
        "id": "651TMRAVx7Ze"
      },
      "source": [
        "## Doctest\n",
        "\n",
        "Best practice comments functions in a doc string.  We can include tests in these docstrings"
      ]
    },
    {
      "cell_type": "code",
      "metadata": {
        "id": "X7mBZEXdYxka"
      },
      "source": [
        "def my_func(x, y, z):\n",
        "    \"\"\"\n",
        "    this function will.....\n",
        "    >>> my_func(1,2,3)\n",
        "    5\n",
        "    >>> my_func('hello', 3, 'world')\n",
        "    'hello hello hello world'\n",
        "    \"\"\"\n",
        "    return x * y + z"
      ],
      "execution_count": null,
      "outputs": []
    },
    {
      "cell_type": "code",
      "metadata": {
        "colab": {
          "base_uri": "https://localhost:8080/"
        },
        "id": "R36EW4B30gdp",
        "outputId": "b552faf0-279c-479b-bb8f-e9c5aa128274"
      },
      "source": [
        "help(my_func)"
      ],
      "execution_count": null,
      "outputs": [
        {
          "output_type": "stream",
          "name": "stdout",
          "text": [
            "Help on function my_func in module __main__:\n",
            "\n",
            "my_func(x, y, z)\n",
            "    this function will.....\n",
            "    >>> my_func(1,2,3)\n",
            "    5\n",
            "    >>> my_func('hello', 3, 'world')\n",
            "    'hello hello hello world'\n",
            "\n"
          ]
        }
      ]
    },
    {
      "cell_type": "code",
      "metadata": {
        "id": "fzNLAyVByVaR",
        "colab": {
          "base_uri": "https://localhost:8080/"
        },
        "outputId": "1d588bac-5734-403a-ed3a-054a869da6b1"
      },
      "source": [
        "import doctest\n",
        "doctest.testmod()"
      ],
      "execution_count": null,
      "outputs": [
        {
          "output_type": "stream",
          "name": "stderr",
          "text": [
            "\n",
            "PYDEV DEBUGGER WARNING:\n",
            "sys.settrace() should not be used when the debugger is being used.\n",
            "This may cause the debugger to stop working correctly.\n",
            "If this is needed, please check: \n",
            "http://pydev.blogspot.com/2007/06/why-cant-pydev-debugger-work-with.html\n",
            "to see how to restore the debug tracing back correctly.\n",
            "Call Location:\n",
            "  File \"/usr/lib/python3.7/doctest.py\", line 1487, in run\n",
            "    sys.settrace(save_trace)\n",
            "\n"
          ]
        },
        {
          "output_type": "stream",
          "name": "stdout",
          "text": [
            "**********************************************************************\n",
            "File \"__main__\", line 6, in __main__.my_func\n",
            "Failed example:\n",
            "    my_func('hello', 3, 'world')\n",
            "Expected:\n",
            "    'hello hello hello world'\n",
            "Got:\n",
            "    'hellohellohelloworld'\n",
            "**********************************************************************\n",
            "1 items had failures:\n",
            "   1 of   2 in __main__.my_func\n",
            "***Test Failed*** 1 failures.\n"
          ]
        },
        {
          "output_type": "execute_result",
          "data": {
            "text/plain": [
              "TestResults(failed=1, attempted=2)"
            ]
          },
          "metadata": {},
          "execution_count": 12
        }
      ]
    },
    {
      "cell_type": "markdown",
      "metadata": {
        "id": "MBlQNvp9zpNu"
      },
      "source": [
        "# unittests\n",
        "\n",
        "Similar to writing own functions with assert statement, but provides summary output"
      ]
    },
    {
      "cell_type": "code",
      "metadata": {
        "id": "jZyaDcR2fSwG",
        "colab": {
          "base_uri": "https://localhost:8080/"
        },
        "outputId": "c44ab31b-f761-4864-8a61-027ad6755652"
      },
      "source": [
        "!pip install ipython_unittest\n",
        "%load_ext ipython_unittest"
      ],
      "execution_count": null,
      "outputs": [
        {
          "output_type": "stream",
          "name": "stdout",
          "text": [
            "Collecting ipython_unittest\n",
            "  Downloading ipython_unittest-0.3.1-py2.py3-none-any.whl (15 kB)\n",
            "Installing collected packages: ipython-unittest\n",
            "Successfully installed ipython-unittest-0.3.1\n"
          ]
        }
      ]
    },
    {
      "cell_type": "code",
      "metadata": {
        "id": "A6B6Rpb5eUjS",
        "colab": {
          "base_uri": "https://localhost:8080/",
          "height": 134
        },
        "outputId": "f23d36ad-98ab-477d-b8d7-e791880c058e"
      },
      "source": [
        "%%unittest_testcase\n",
        "def test_three_numbers(self):\n",
        "  result = my_func(1,1,3)\n",
        "  self.assertEqual(result, 4)\n",
        "  #way to test if it is right, will show in output\n"
      ],
      "execution_count": null,
      "outputs": [
        {
          "output_type": "display_data",
          "data": {
            "application/unittest.status+json": {
              "color": "yellow",
              "message": "",
              "previous": 0
            },
            "text/plain": [
              ""
            ]
          },
          "metadata": {}
        },
        {
          "output_type": "display_data",
          "data": {
            "application/unittest.status+json": {
              "color": "lightgreen",
              "message": ".\n----------------------------------------------------------------------\nRan 1 test in 0.000s\n\nOK\n",
              "previous": 0
            },
            "text/plain": [
              "Success"
            ]
          },
          "metadata": {}
        },
        {
          "output_type": "stream",
          "name": "stdout",
          "text": [
            ".\n",
            "----------------------------------------------------------------------\n",
            "Ran 1 test in 0.000s\n",
            "\n",
            "OK\n"
          ]
        },
        {
          "output_type": "execute_result",
          "data": {
            "text/plain": [
              "<unittest.runner.TextTestResult run=1 errors=0 failures=0>"
            ]
          },
          "metadata": {},
          "execution_count": 14
        }
      ]
    },
    {
      "cell_type": "code",
      "metadata": {
        "id": "4i8aq7UX132j"
      },
      "source": [
        ""
      ],
      "execution_count": null,
      "outputs": []
    }
  ]
}